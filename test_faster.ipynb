{
 "cells": [
  {
   "cell_type": "markdown",
   "metadata": {},
   "source": [
    "#### Log - Regression"
   ]
  },
  {
   "cell_type": "code",
   "execution_count": null,
   "metadata": {},
   "outputs": [],
   "source": [
    "import numpy as np\n",
    "import matplotlib.pyplot as plt\n",
    "from src.miss_glm_faster import MissGLM, MissGLMSelector\n",
    "\n",
    "# Set parameters\n",
    "n = 500  # number of subjects\n",
    "p = 5    # number of explanatory variables\n",
    "mu_star = np.arange(0, p)/2  # mean of the explanatory variables\n",
    "sd = np.arange(1, p+1)/3      # standard deviations\n",
    "seed = 42\n",
    "\n",
    "np.random.seed(seed)\n",
    "\n",
    "# New Correlation matrix\n",
    "C = np.array([\n",
    "    [1,   0., 0., 0,   0],\n",
    "    [0.,  1,   0., 0., 0],\n",
    "    [0.,  0., 1,   0.6, 0.3],\n",
    "    [0,   0., 0.6, 1,   0.5],\n",
    "    [0,   0,   0.3, 0.5, 1]\n",
    "])\n",
    "\n",
    "# Covariance matrix\n",
    "Sigma_star = np.diag(sd) @ C @ np.diag(sd)\n",
    "\n",
    "# New Coefficients\n",
    "beta_star = np.array([1.2, -0.5, 0.8, -1.1, 0.4])\n",
    "beta0_star = 0.5  # intercept\n",
    "\n",
    "beta_true = np.hstack([beta0_star, beta_star])\n",
    "print(\"True coefficients: \", beta_true)\n",
    "\n",
    "# Design matrix\n",
    "X_complete = np.random.randn(n, p) @ np.linalg.cholesky(Sigma_star).T + mu_star\n",
    "\n",
    "# Response vector\n",
    "p1 = 1 / (1 + np.exp(-(X_complete @ beta_star + beta0_star)))\n",
    "y = (np.random.rand(n) < p1).astype(int)\n",
    "\n",
    "# Print summary statistics\n",
    "print(\"Mean of each explanatory variable (X):\", np.mean(X_complete, axis=0))\n",
    "print(\"Generated response vector (y):\", y[:10])  # show first 10 responses for verification\n",
    "\n",
    "\n",
    "# Set the proportion of missing values\n",
    "p_miss = 0.20\n",
    "\n",
    "# Generate missing values MCAR\n",
    "X_miss = X_complete.copy()\n",
    "X_miss[np.random.rand(*X_miss.shape) < p_miss] = np.nan"
   ]
  },
  {
   "cell_type": "code",
   "execution_count": null,
   "metadata": {},
   "outputs": [],
   "source": [
    "\n",
    "model = MissGLM(maxruns=500, tol_em=1e-7, var_cal=True, ll_obs_cal=True, seed=seed, k1=50, tau=1)\n",
    "\n",
    "# Fit the model\n",
    "model.fit(X_miss, y, save_trace=True)"
   ]
  },
  {
   "cell_type": "code",
   "execution_count": null,
   "metadata": {},
   "outputs": [],
   "source": [
    "model.ll_obs"
   ]
  },
  {
   "cell_type": "code",
   "execution_count": null,
   "metadata": {},
   "outputs": [],
   "source": [
    "b = np.array(model.trace[\"beta\"])\n",
    "plt.figure()\n",
    "\n",
    "plt.plot(b[:, 0], label=\"Intercept\")\n",
    "for i in range(p):\n",
    "    plt.plot(b[:, i+1], label=f\"beta_{i+1}\")\n",
    "plt.legend()\n",
    "plt.show()"
   ]
  },
  {
   "cell_type": "code",
   "execution_count": 5,
   "metadata": {},
   "outputs": [],
   "source": [
    "n_preds = 300\n",
    "np.random.seed(11)\n",
    "newX = np.random.randn(n_preds, p) @ np.linalg.cholesky(Sigma_star).T + mu_star\n",
    "newX_miss = newX.copy()\n",
    "newX_miss[np.random.rand(*newX.shape) < p_miss] = np.nan\n",
    "\n",
    "preds = model.predict_proba(newX_miss, method=\"impute\")[:,1]"
   ]
  },
  {
   "cell_type": "code",
   "execution_count": null,
   "metadata": {},
   "outputs": [],
   "source": [
    "# plot prediction vs true\n",
    "\n",
    "true_prob = 1 / (1 + np.exp(-(newX @ beta_star + beta0_star)))\n",
    "\n",
    "plt.figure()\n",
    "plt.plot(true_prob, preds, 'o')\n",
    "plt.plot([0, 1], [0, 1], 'r--')\n",
    "plt.xlabel(\"True probability\")\n",
    "plt.ylabel(\"Predicted probability\")\n",
    "plt.title(\"Prediction vs True\")\n",
    "plt.show()\n",
    "\n",
    "\n",
    "# compute R²\n",
    "\n",
    "R2 = 1 - np.sum((true_prob - preds)**2) / np.sum((true_prob - np.mean(true_prob))**2)\n",
    "print(\"R²: \", R2)"
   ]
  },
  {
   "cell_type": "code",
   "execution_count": null,
   "metadata": {},
   "outputs": [],
   "source": [
    "# plot C.I of coefficients\n",
    "# with real coef in red\n",
    "\n",
    "plt.errorbar(np.arange(p+1), model.coef_, yerr=model.std_err * 1.96, fmt='o', label='Estimated')\n",
    "plt.plot(np.arange(p+1), beta_true, 'ro', label='True')\n",
    "plt.legend()\n",
    "plt.show()\n"
   ]
  },
  {
   "cell_type": "markdown",
   "metadata": {},
   "source": [
    "#### Model Selection"
   ]
  },
  {
   "cell_type": "code",
   "execution_count": 8,
   "metadata": {},
   "outputs": [],
   "source": [
    "X_null = np.random.randn(n, 1) + 1\n",
    "\n",
    "# concat above X complete and X_null\n",
    "X_complete_null = np.hstack([X_complete, X_null])\n",
    "\n",
    "# missing MCAR\n",
    "patterns = np.random.rand(n, X_complete_null.shape[1]) < p_miss\n",
    "X_complete_null[patterns] = np.nan"
   ]
  },
  {
   "cell_type": "code",
   "execution_count": null,
   "metadata": {},
   "outputs": [],
   "source": [
    "model_selection = MissGLMSelector()\n",
    "best_model = model_selection.fit(X_complete_null, y, progress_bar=True)"
   ]
  },
  {
   "cell_type": "code",
   "execution_count": null,
   "metadata": {},
   "outputs": [],
   "source": [
    "model_selection.get_support(indices=False)"
   ]
  },
  {
   "cell_type": "code",
   "execution_count": null,
   "metadata": {},
   "outputs": [],
   "source": [
    "best_model.coef_"
   ]
  },
  {
   "cell_type": "code",
   "execution_count": 13,
   "metadata": {},
   "outputs": [],
   "source": [
    "best_model.std_err"
   ]
  },
  {
   "cell_type": "markdown",
   "metadata": {},
   "source": [
    "#### Test speed"
   ]
  },
  {
   "cell_type": "code",
   "execution_count": null,
   "metadata": {},
   "outputs": [],
   "source": [
    "stats = pstats.Stats(pr)\n",
    "stats.sort_stats(pstats.SortKey.CUMULATIVE)\n",
    "# Now you have two options, either print the data or save it as a file\n",
    "stats.print_stats() # Print The Stats"
   ]
  }
 ],
 "metadata": {
  "kernelspec": {
   "display_name": "misaem",
   "language": "python",
   "name": "python3"
  },
  "language_info": {
   "codemirror_mode": {
    "name": "ipython",
    "version": 3
   },
   "file_extension": ".py",
   "mimetype": "text/x-python",
   "name": "python",
   "nbconvert_exporter": "python",
   "pygments_lexer": "ipython3",
   "version": "3.13.0"
  }
 },
 "nbformat": 4,
 "nbformat_minor": 2
}
